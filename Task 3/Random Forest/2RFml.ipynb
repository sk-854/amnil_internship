{
 "cells": [
  {
   "cell_type": "code",
   "execution_count": 30,
   "id": "1b54bc43-1361-4a8b-9f82-086d63890a8c",
   "metadata": {},
   "outputs": [],
   "source": [
    "import pandas as pd\n",
    "import random\n",
    "import numpy as np\n",
    "from sklearn.model_selection import train_test_split\n",
    "from sklearn.metrics import classification_report,ConfusionMatrixDisplay, confusion_matrix, roc_auc_score,precision_score, recall_score\n",
    "from sklearn.preprocessing import OrdinalEncoder\n",
    "from imblearn.over_sampling import SMOTE, SMOTENC\n",
    "from lightgbm import LGBMClassifier\n",
    "from sklearn.ensemble import RandomForestClassifier\n",
    "import matplotlib.pyplot as plt\n",
    "import shap\n",
    "import mlflow"
   ]
  },
  {
   "cell_type": "code",
   "execution_count": 2,
   "id": "8340c940-8144-4e31-b78b-c96c1548a976",
   "metadata": {
    "jupyter": {
     "source_hidden": true
    }
   },
   "outputs": [
    {
     "name": "stdout",
     "output_type": "stream",
     "text": [
      "Requirement already satisfied: imbalanced-learn in c:\\users\\user\\anaconda3\\envs\\deepface\\lib\\site-packages (0.14.0)\n",
      "Requirement already satisfied: lightgbm in c:\\users\\user\\anaconda3\\envs\\deepface\\lib\\site-packages (4.6.0)\n",
      "Requirement already satisfied: shap in c:\\users\\user\\anaconda3\\envs\\deepface\\lib\\site-packages (0.48.0)\n",
      "Requirement already satisfied: numpy<3,>=1.25.2 in c:\\users\\user\\anaconda3\\envs\\deepface\\lib\\site-packages (from imbalanced-learn) (2.0.2)\n",
      "Requirement already satisfied: scipy<2,>=1.11.4 in c:\\users\\user\\anaconda3\\envs\\deepface\\lib\\site-packages (from imbalanced-learn) (1.15.2)\n",
      "Requirement already satisfied: scikit-learn<2,>=1.4.2 in c:\\users\\user\\anaconda3\\envs\\deepface\\lib\\site-packages (from imbalanced-learn) (1.6.1)\n",
      "Requirement already satisfied: joblib<2,>=1.2.0 in c:\\users\\user\\anaconda3\\envs\\deepface\\lib\\site-packages (from imbalanced-learn) (1.4.2)\n",
      "Requirement already satisfied: threadpoolctl<4,>=2.0.0 in c:\\users\\user\\anaconda3\\envs\\deepface\\lib\\site-packages (from imbalanced-learn) (3.6.0)\n",
      "Requirement already satisfied: pandas in c:\\users\\user\\anaconda3\\envs\\deepface\\lib\\site-packages (from shap) (2.2.3)\n",
      "Requirement already satisfied: tqdm>=4.27.0 in c:\\users\\user\\anaconda3\\envs\\deepface\\lib\\site-packages (from shap) (4.67.1)\n",
      "Requirement already satisfied: packaging>20.9 in c:\\users\\user\\anaconda3\\envs\\deepface\\lib\\site-packages (from shap) (24.2)\n",
      "Requirement already satisfied: slicer==0.0.8 in c:\\users\\user\\anaconda3\\envs\\deepface\\lib\\site-packages (from shap) (0.0.8)\n",
      "Requirement already satisfied: numba>=0.54 in c:\\users\\user\\anaconda3\\envs\\deepface\\lib\\site-packages (from shap) (0.62.0)\n",
      "Requirement already satisfied: cloudpickle in c:\\users\\user\\anaconda3\\envs\\deepface\\lib\\site-packages (from shap) (3.1.1)\n",
      "Requirement already satisfied: typing-extensions in c:\\users\\user\\anaconda3\\envs\\deepface\\lib\\site-packages (from shap) (4.13.2)\n",
      "Requirement already satisfied: llvmlite<0.46,>=0.45.0dev0 in c:\\users\\user\\anaconda3\\envs\\deepface\\lib\\site-packages (from numba>=0.54->shap) (0.45.0)\n",
      "Requirement already satisfied: colorama in c:\\users\\user\\anaconda3\\envs\\deepface\\lib\\site-packages (from tqdm>=4.27.0->shap) (0.4.6)\n",
      "Requirement already satisfied: python-dateutil>=2.8.2 in c:\\users\\user\\anaconda3\\envs\\deepface\\lib\\site-packages (from pandas->shap) (2.9.0.post0)\n",
      "Requirement already satisfied: pytz>=2020.1 in c:\\users\\user\\anaconda3\\envs\\deepface\\lib\\site-packages (from pandas->shap) (2024.1)\n",
      "Requirement already satisfied: tzdata>=2022.7 in c:\\users\\user\\anaconda3\\envs\\deepface\\lib\\site-packages (from pandas->shap) (2025.2)\n",
      "Requirement already satisfied: six>=1.5 in c:\\users\\user\\anaconda3\\envs\\deepface\\lib\\site-packages (from python-dateutil>=2.8.2->pandas->shap) (1.17.0)\n",
      "Note: you may need to restart the kernel to use updated packages.\n"
     ]
    }
   ],
   "source": [
    "%pip install imbalanced-learn lightgbm shap\n"
   ]
  },
  {
   "cell_type": "code",
   "execution_count": 8,
   "id": "9c40e5ce-26e4-4fe1-a46a-7297d3daa97d",
   "metadata": {},
   "outputs": [
    {
     "data": {
      "text/plain": [
       "<Experiment: artifact_location='file:///D:/INTERN/INTERN/Amnil%20Internship/mlruns/590490615380055142', creation_time=1759669432259, experiment_id='590490615380055142', last_update_time=1759669432259, lifecycle_stage='active', name='Random-Forest-Model', tags={}>"
      ]
     },
     "execution_count": 8,
     "metadata": {},
     "output_type": "execute_result"
    }
   ],
   "source": [
    "#setting ml flow expoerminet\n",
    "mlflow.set_experiment(\"Random-Forest-Model\")"
   ]
  },
  {
   "cell_type": "code",
   "execution_count": 9,
   "id": "81451f27-8d7e-4069-a2fd-30b612ef6da1",
   "metadata": {},
   "outputs": [
    {
     "name": "stdout",
     "output_type": "stream",
     "text": [
      "Shape of dataset: (1296675, 24)\n",
      "\n",
      "Data types:\n",
      " Unnamed: 0                 int64\n",
      "trans_date_trans_time     object\n",
      "cc_num                     int64\n",
      "merchant                  object\n",
      "category                  object\n",
      "amt                      float64\n",
      "first                     object\n",
      "last                      object\n",
      "gender                    object\n",
      "street                    object\n",
      "city                      object\n",
      "state                     object\n",
      "zip                        int64\n",
      "lat                      float64\n",
      "long                     float64\n",
      "city_pop                   int64\n",
      "job                       object\n",
      "dob                       object\n",
      "trans_num                 object\n",
      "unix_time                  int64\n",
      "merch_lat                float64\n",
      "merch_long               float64\n",
      "is_fraud                   int64\n",
      "merch_zipcode            float64\n",
      "dtype: object\n",
      "\n",
      "Missing values per column:\n",
      " Unnamed: 0                    0\n",
      "trans_date_trans_time         0\n",
      "cc_num                        0\n",
      "merchant                      0\n",
      "category                      0\n",
      "amt                           0\n",
      "first                         0\n",
      "last                          0\n",
      "gender                        0\n",
      "street                        0\n",
      "city                          0\n",
      "state                         0\n",
      "zip                           0\n",
      "lat                           0\n",
      "long                          0\n",
      "city_pop                      0\n",
      "job                           0\n",
      "dob                           0\n",
      "trans_num                     0\n",
      "unix_time                     0\n",
      "merch_lat                     0\n",
      "merch_long                    0\n",
      "is_fraud                      0\n",
      "merch_zipcode            195973\n",
      "dtype: int64\n",
      "         Unnamed: 0        cc_num           amt           zip           lat  \\\n",
      "count  1.296675e+06  1.296675e+06  1.296675e+06  1.296675e+06  1.296675e+06   \n",
      "mean   6.483370e+05  4.171920e+17  7.035104e+01  4.880067e+04  3.853762e+01   \n",
      "std    3.743180e+05  1.308806e+18  1.603160e+02  2.689322e+04  5.075808e+00   \n",
      "min    0.000000e+00  6.041621e+10  1.000000e+00  1.257000e+03  2.002710e+01   \n",
      "25%    3.241685e+05  1.800429e+14  9.650000e+00  2.623700e+04  3.462050e+01   \n",
      "50%    6.483370e+05  3.521417e+15  4.752000e+01  4.817400e+04  3.935430e+01   \n",
      "75%    9.725055e+05  4.642255e+15  8.314000e+01  7.204200e+04  4.194040e+01   \n",
      "max    1.296674e+06  4.992346e+18  2.894890e+04  9.978300e+04  6.669330e+01   \n",
      "\n",
      "               long      city_pop     unix_time     merch_lat    merch_long  \\\n",
      "count  1.296675e+06  1.296675e+06  1.296675e+06  1.296675e+06  1.296675e+06   \n",
      "mean  -9.022634e+01  8.882444e+04  1.349244e+09  3.853734e+01 -9.022646e+01   \n",
      "std    1.375908e+01  3.019564e+05  1.284128e+07  5.109788e+00  1.377109e+01   \n",
      "min   -1.656723e+02  2.300000e+01  1.325376e+09  1.902779e+01 -1.666712e+02   \n",
      "25%   -9.679800e+01  7.430000e+02  1.338751e+09  3.473357e+01 -9.689728e+01   \n",
      "50%   -8.747690e+01  2.456000e+03  1.349250e+09  3.936568e+01 -8.743839e+01   \n",
      "75%   -8.015800e+01  2.032800e+04  1.359385e+09  4.195716e+01 -8.023680e+01   \n",
      "max   -6.795030e+01  2.906700e+06  1.371817e+09  6.751027e+01 -6.695090e+01   \n",
      "\n",
      "           is_fraud  merch_zipcode  \n",
      "count  1.296675e+06   1.100702e+06  \n",
      "mean   5.788652e-03   4.682575e+04  \n",
      "std    7.586269e-02   2.583400e+04  \n",
      "min    0.000000e+00   1.001000e+03  \n",
      "25%    0.000000e+00   2.511400e+04  \n",
      "50%    0.000000e+00   4.586000e+04  \n",
      "75%    0.000000e+00   6.831900e+04  \n",
      "max    1.000000e+00   9.940300e+04  \n",
      "<class 'pandas.core.frame.DataFrame'>\n",
      "RangeIndex: 1296675 entries, 0 to 1296674\n",
      "Data columns (total 24 columns):\n",
      " #   Column                 Non-Null Count    Dtype  \n",
      "---  ------                 --------------    -----  \n",
      " 0   Unnamed: 0             1296675 non-null  int64  \n",
      " 1   trans_date_trans_time  1296675 non-null  object \n",
      " 2   cc_num                 1296675 non-null  int64  \n",
      " 3   merchant               1296675 non-null  object \n",
      " 4   category               1296675 non-null  object \n",
      " 5   amt                    1296675 non-null  float64\n",
      " 6   first                  1296675 non-null  object \n",
      " 7   last                   1296675 non-null  object \n",
      " 8   gender                 1296675 non-null  object \n",
      " 9   street                 1296675 non-null  object \n",
      " 10  city                   1296675 non-null  object \n",
      " 11  state                  1296675 non-null  object \n",
      " 12  zip                    1296675 non-null  int64  \n",
      " 13  lat                    1296675 non-null  float64\n",
      " 14  long                   1296675 non-null  float64\n",
      " 15  city_pop               1296675 non-null  int64  \n",
      " 16  job                    1296675 non-null  object \n",
      " 17  dob                    1296675 non-null  object \n",
      " 18  trans_num              1296675 non-null  object \n",
      " 19  unix_time              1296675 non-null  int64  \n",
      " 20  merch_lat              1296675 non-null  float64\n",
      " 21  merch_long             1296675 non-null  float64\n",
      " 22  is_fraud               1296675 non-null  int64  \n",
      " 23  merch_zipcode          1100702 non-null  float64\n",
      "dtypes: float64(6), int64(6), object(12)\n",
      "memory usage: 237.4+ MB\n",
      "Dataset info None\n"
     ]
    }
   ],
   "source": [
    "#dataset loading and dataset study\n",
    "df = pd.read_csv(r'carddata.csv')  \n",
    "print(\"Shape of dataset:\", df.shape)\n",
    "print(\"\\nData types:\\n\", df.dtypes)\n",
    "print(\"\\nMissing values per column:\\n\", df.isna().sum())\n",
    "print(df.describe())\n",
    "print(\"Dataset info\",df.info())\n",
    "\n"
   ]
  },
  {
   "cell_type": "code",
   "execution_count": 12,
   "id": "dc2d8fc8-5d05-4560-94da-05672bf82deb",
   "metadata": {},
   "outputs": [
    {
     "name": "stdout",
     "output_type": "stream",
     "text": [
      "\n",
      "Target distribution:\n",
      " is_fraud\n",
      "0    1289169\n",
      "1       7506\n",
      "Name: count, dtype: int64\n"
     ]
    }
   ],
   "source": [
    "print(\"\\nTarget distribution:\\n\",df['is_fraud'].value_counts())\n",
    "#shows more is legit transaction and only 1000s are fraud\n",
    "#and shows data imbalance"
   ]
  },
  {
   "cell_type": "code",
   "execution_count": 13,
   "id": "403b47ac-1e56-4548-bc54-9eb871c4e422",
   "metadata": {},
   "outputs": [
    {
     "name": "stdout",
     "output_type": "stream",
     "text": [
      "\n",
      "Target distribution (normalized):\n",
      " is_fraud\n",
      "0    0.994211\n",
      "1    0.005789\n",
      "Name: proportion, dtype: float64\n"
     ]
    }
   ],
   "source": [
    "print(\"\\nTarget distribution (normalized):\\n\", df['is_fraud'].value_counts(normalize=True))"
   ]
  },
  {
   "cell_type": "code",
   "execution_count": 14,
   "id": "003b9083-1341-447e-b32e-3b733fa84bce",
   "metadata": {},
   "outputs": [
    {
     "name": "stdout",
     "output_type": "stream",
     "text": [
      "Columns after removal: Index(['trans_date_trans_time', 'merchant', 'category', 'amt', 'gender',\n",
      "       'state', 'lat', 'long', 'city_pop', 'job', 'unix_time', 'merch_lat',\n",
      "       'merch_long', 'is_fraud', 'merch_zipcode'],\n",
      "      dtype='object')\n"
     ]
    }
   ],
   "source": [
    "#Dropping unnecessary columns\n",
    "cols_to_drop = ['Unnamed: 0', 'cc_num', 'first', 'last', 'street', 'city', 'zip', 'dob', 'trans_num']\n",
    "df = df.drop(columns=[c for c in cols_to_drop if c in df.columns])\n",
    "print(\"Columns after removal:\", df.columns)"
   ]
  },
  {
   "cell_type": "code",
   "execution_count": 15,
   "id": "cc6f7447-529d-4c3a-8eab-e2a8b7712b28",
   "metadata": {},
   "outputs": [
    {
     "name": "stdout",
     "output_type": "stream",
     "text": [
      "<class 'pandas.core.frame.DataFrame'>\n",
      "RangeIndex: 1296675 entries, 0 to 1296674\n",
      "Data columns (total 15 columns):\n",
      " #   Column                 Non-Null Count    Dtype  \n",
      "---  ------                 --------------    -----  \n",
      " 0   trans_date_trans_time  1296675 non-null  object \n",
      " 1   merchant               1296675 non-null  object \n",
      " 2   category               1296675 non-null  object \n",
      " 3   amt                    1296675 non-null  float64\n",
      " 4   gender                 1296675 non-null  object \n",
      " 5   state                  1296675 non-null  object \n",
      " 6   lat                    1296675 non-null  float64\n",
      " 7   long                   1296675 non-null  float64\n",
      " 8   city_pop               1296675 non-null  int64  \n",
      " 9   job                    1296675 non-null  object \n",
      " 10  unix_time              1296675 non-null  int64  \n",
      " 11  merch_lat              1296675 non-null  float64\n",
      " 12  merch_long             1296675 non-null  float64\n",
      " 13  is_fraud               1296675 non-null  int64  \n",
      " 14  merch_zipcode          1100702 non-null  float64\n",
      "dtypes: float64(6), int64(3), object(6)\n",
      "memory usage: 148.4+ MB\n",
      "Dataset info None\n"
     ]
    }
   ],
   "source": [
    "print(\"Dataset info\",df.info())"
   ]
  },
  {
   "cell_type": "code",
   "execution_count": 16,
   "id": "66fc9e8a-3d0b-4689-ae10-b14dba3c05a1",
   "metadata": {},
   "outputs": [
    {
     "name": "stdout",
     "output_type": "stream",
     "text": [
      "trans_date_trans_time    0\n",
      "merchant                 0\n",
      "category                 0\n",
      "amt                      0\n",
      "gender                   0\n",
      "state                    0\n",
      "lat                      0\n",
      "long                     0\n",
      "city_pop                 0\n",
      "job                      0\n",
      "unix_time                0\n",
      "merch_lat                0\n",
      "merch_long               0\n",
      "is_fraud                 0\n",
      "merch_zipcode            0\n",
      "dtype: int64\n"
     ]
    }
   ],
   "source": [
    "#substituting the missing values in merch zipcode with medan\n",
    "df['merch_zipcode']=df['merch_zipcode'].fillna(df['merch_zipcode'].median())\n",
    "print(df.isna().sum())"
   ]
  },
  {
   "cell_type": "code",
   "execution_count": 17,
   "id": "b687cf62-b1f8-457d-9bae-8fc343fe9b6f",
   "metadata": {},
   "outputs": [
    {
     "name": "stdout",
     "output_type": "stream",
     "text": [
      "                amt           lat          long      city_pop     unix_time  \\\n",
      "count  1.296675e+06  1.296675e+06  1.296675e+06  1.296675e+06  1.296675e+06   \n",
      "mean   7.035104e+01  3.853762e+01 -9.022634e+01  8.882444e+04  1.349244e+09   \n",
      "std    1.603160e+02  5.075808e+00  1.375908e+01  3.019564e+05  1.284128e+07   \n",
      "min    1.000000e+00  2.002710e+01 -1.656723e+02  2.300000e+01  1.325376e+09   \n",
      "25%    9.650000e+00  3.462050e+01 -9.679800e+01  7.430000e+02  1.338751e+09   \n",
      "50%    4.752000e+01  3.935430e+01 -8.747690e+01  2.456000e+03  1.349250e+09   \n",
      "75%    8.314000e+01  4.194040e+01 -8.015800e+01  2.032800e+04  1.359385e+09   \n",
      "max    2.894890e+04  6.669330e+01 -6.795030e+01  2.906700e+06  1.371817e+09   \n",
      "\n",
      "          merch_lat    merch_long      is_fraud  merch_zipcode  \n",
      "count  1.296675e+06  1.296675e+06  1.296675e+06   1.296675e+06  \n",
      "mean   3.853734e+01 -9.022646e+01  5.788652e-03   4.667979e+04  \n",
      "std    5.109788e+00  1.377109e+01  7.586269e-02   2.380438e+04  \n",
      "min    1.902779e+01 -1.666712e+02  0.000000e+00   1.001000e+03  \n",
      "25%    3.473357e+01 -9.689728e+01  0.000000e+00   2.890500e+04  \n",
      "50%    3.936568e+01 -8.743839e+01  0.000000e+00   4.586000e+04  \n",
      "75%    4.195716e+01 -8.023680e+01  0.000000e+00   6.409800e+04  \n",
      "max    6.751027e+01 -6.695090e+01  1.000000e+00   9.940300e+04  \n"
     ]
    }
   ],
   "source": [
    "\n",
    "print(df.describe())"
   ]
  },
  {
   "cell_type": "code",
   "execution_count": 18,
   "id": "3175eb7a-e2fe-4abf-9e72-23363375066d",
   "metadata": {},
   "outputs": [
    {
     "name": "stdout",
     "output_type": "stream",
     "text": [
      "    trans_date_trans_time  trans_hour trans_time_of_day\n",
      "0     2019-01-01 00:00:18           0             night\n",
      "1     2019-01-01 00:00:44           0             night\n",
      "2     2019-01-01 00:00:51           0             night\n",
      "3     2019-01-01 00:01:16           0             night\n",
      "4     2019-01-01 00:03:06           0             night\n",
      "..                    ...         ...               ...\n",
      "195   2019-01-01 02:23:41           2             night\n",
      "196   2019-01-01 02:26:14           2             night\n",
      "197   2019-01-01 02:26:16           2             night\n",
      "198   2019-01-01 02:27:58           2             night\n",
      "199   2019-01-01 02:28:24           2             night\n",
      "\n",
      "[200 rows x 3 columns]\n",
      "<class 'pandas.core.frame.DataFrame'>\n",
      "RangeIndex: 1296675 entries, 0 to 1296674\n",
      "Data columns (total 17 columns):\n",
      " #   Column                 Non-Null Count    Dtype         \n",
      "---  ------                 --------------    -----         \n",
      " 0   trans_date_trans_time  1296675 non-null  datetime64[ns]\n",
      " 1   merchant               1296675 non-null  object        \n",
      " 2   category               1296675 non-null  object        \n",
      " 3   amt                    1296675 non-null  float64       \n",
      " 4   gender                 1296675 non-null  object        \n",
      " 5   state                  1296675 non-null  object        \n",
      " 6   lat                    1296675 non-null  float64       \n",
      " 7   long                   1296675 non-null  float64       \n",
      " 8   city_pop               1296675 non-null  int64         \n",
      " 9   job                    1296675 non-null  object        \n",
      " 10  unix_time              1296675 non-null  int64         \n",
      " 11  merch_lat              1296675 non-null  float64       \n",
      " 12  merch_long             1296675 non-null  float64       \n",
      " 13  is_fraud               1296675 non-null  int64         \n",
      " 14  merch_zipcode          1296675 non-null  float64       \n",
      " 15  trans_hour             1296675 non-null  int32         \n",
      " 16  trans_time_of_day      1296675 non-null  category      \n",
      "dtypes: category(1), datetime64[ns](1), float64(6), int32(1), int64(3), object(5)\n",
      "memory usage: 154.6+ MB\n"
     ]
    }
   ],
   "source": [
    "# Ensure datetime format\n",
    "df['trans_date_trans_time'] = pd.to_datetime(df['trans_date_trans_time'])\n",
    "\n",
    "# Extracting hour\n",
    "df['trans_hour'] = df['trans_date_trans_time'].dt.hour\n",
    "\n",
    "# Hour conversion to time of day,night,evening\n",
    "def time_of_day(hour):\n",
    "    if 5 <= hour < 12:\n",
    "        return 'morning'\n",
    "    elif 12 <= hour < 17:\n",
    "        return 'day'\n",
    "    elif 17 <= hour < 21:\n",
    "        return 'evening'\n",
    "    else:\n",
    "        return 'night'\n",
    "\n",
    "# Time conversion\n",
    "df['trans_time_of_day'] = df['trans_hour'].apply(time_of_day)\n",
    "df['trans_time_of_day'] = df['trans_time_of_day'].astype('category')\n",
    "\n",
    "# Checking the new column\n",
    "print(df[['trans_date_trans_time','trans_hour','trans_time_of_day']].head(200))\n",
    "df.info()"
   ]
  },
  {
   "cell_type": "code",
   "execution_count": 19,
   "id": "d0681306-e840-49d5-9b9c-2649045b4654",
   "metadata": {},
   "outputs": [
    {
     "name": "stdout",
     "output_type": "stream",
     "text": [
      "amt_bin\n",
      "low          324325\n",
      "high         324151\n",
      "very_high    324112\n",
      "medium       324087\n",
      "Name: count, dtype: int64\n"
     ]
    }
   ],
   "source": [
    "#Amount binning\n",
    "# Simple 4-bin approach based on quartiles\n",
    "df['amt_bin'] = pd.qcut(df['amt'], 4, labels=['low', 'medium', 'high', 'very_high'])\n",
    "\n",
    "# Checking transactions in each bin\n",
    "print(df['amt_bin'].value_counts())\n"
   ]
  },
  {
   "cell_type": "code",
   "execution_count": 20,
   "id": "50a36e02-5eac-4ed9-85e2-9b98c0bf00d2",
   "metadata": {},
   "outputs": [
    {
     "name": "stdout",
     "output_type": "stream",
     "text": [
      "is_fraud\n",
      "0    92494\n",
      "1     7506\n",
      "Name: count, dtype: int64\n"
     ]
    }
   ],
   "source": [
    "#Separating fraud and non-fraud transactions\n",
    "fraud_df = df[df['is_fraud'] == 1]\n",
    "nonfraud_df = df[df['is_fraud'] == 0]\n",
    "\n",
    "n_nonfraud = 100000 - len(fraud_df)  # ~92,500\n",
    "\n",
    "#Random sampling of non-fraud rows\n",
    "nonfraud_sampled = nonfraud_df.sample(n=n_nonfraud, random_state=42)\n",
    "\n",
    "#Combining all fraud and non-fraud rows\n",
    "df_small = pd.concat([fraud_df, nonfraud_sampled])\n",
    "\n",
    "#Shuffle dataset\n",
    "df_small = df_small.sample(frac=1, random_state=42).reset_index(drop=True)\n",
    "\n",
    "#Checking target distribution\n",
    "print(df_small['is_fraud'].value_counts())\n"
   ]
  },
  {
   "cell_type": "code",
   "execution_count": 21,
   "id": "d36b2246-381e-43f2-85af-5cef5b5e5ba1",
   "metadata": {},
   "outputs": [],
   "source": [
    "#Target column\n",
    "y = df_small['is_fraud']\n",
    "\n",
    "#Features (drop target)\n",
    "X = df_small.drop(columns=['is_fraud'])\n"
   ]
  },
  {
   "cell_type": "code",
   "execution_count": 22,
   "id": "9f064b08-ddf4-4d82-a751-ca2e70faaa6f",
   "metadata": {},
   "outputs": [
    {
     "name": "stdout",
     "output_type": "stream",
     "text": [
      "Train size: (80000, 16)\n",
      "Test size: (20000, 16)\n",
      "Fraud distribution in train:\n",
      " is_fraud\n",
      "0    73995\n",
      "1     6005\n",
      "Name: count, dtype: int64\n",
      "Fraud distribution in test:\n",
      " is_fraud\n",
      "0    18499\n",
      "1     1501\n",
      "Name: count, dtype: int64\n"
     ]
    }
   ],
   "source": [
    "X_train, X_test, y_train, y_test = train_test_split(\n",
    "    X, y, test_size=0.2, random_state=42, stratify=y\n",
    ")\n",
    "X_train = X_train.drop(columns=['trans_date_trans_time'])\n",
    "X_test = X_test.drop(columns=['trans_date_trans_time'])\n",
    "print(\"Train size:\", X_train.shape)\n",
    "print(\"Test size:\", X_test.shape)\n",
    "print(\"Fraud distribution in train:\\n\", y_train.value_counts())\n",
    "print(\"Fraud distribution in test:\\n\", y_test.value_counts())"
   ]
  },
  {
   "cell_type": "code",
   "execution_count": 23,
   "id": "4da0cdee-8185-43eb-994b-872b223b49d0",
   "metadata": {},
   "outputs": [],
   "source": [
    "#Handlin categorical features\n",
    "categorical_cols = ['merchant', 'category', 'gender', 'state', 'job', 'trans_time_of_day', 'amt_bin']\n",
    "cat_features_indices = [X_train.columns.get_loc(col) for col in categorical_cols]"
   ]
  },
  {
   "cell_type": "code",
   "execution_count": 24,
   "id": "c96a1dd3-cfc1-4520-905f-61efdc68f4f9",
   "metadata": {},
   "outputs": [
    {
     "name": "stdout",
     "output_type": "stream",
     "text": [
      "After SMOTENC, class distribution:\n",
      " is_fraud\n",
      "0    73995\n",
      "1    73995\n",
      "Name: count, dtype: int64\n"
     ]
    }
   ],
   "source": [
    "#SMOTENC balancing\n",
    "smote_nc = SMOTENC(categorical_features=cat_features_indices, random_state=42)\n",
    "X_train_res, y_train_res = smote_nc.fit_resample(X_train, y_train)\n",
    "print(\"After SMOTENC, class distribution:\\n\", y_train_res.value_counts())\n"
   ]
  },
  {
   "cell_type": "code",
   "execution_count": 25,
   "id": "abbe8ece-48c2-470a-8ef4-c4de99761eb0",
   "metadata": {},
   "outputs": [],
   "source": [
    "#Encoding categorical columns to numeric columns for Random Forest\n",
    "# Initializing the  OrdinalEncoder\n",
    "encoder = OrdinalEncoder()\n",
    "# Fit and transform categorical columns in X_train_res and X_test\n",
    "X_train_res[categorical_cols] = encoder.fit_transform(X_train_res[categorical_cols])\n",
    "X_test[categorical_cols] = encoder.transform(X_test[categorical_cols])\n"
   ]
  },
  {
   "cell_type": "code",
   "execution_count": 26,
   "id": "731a4b51-60db-4330-ad2b-dd53ee44e663",
   "metadata": {},
   "outputs": [],
   "source": [
    "#Training the Random Forest model with mlflow treacking\n",
    "with mlflow.start_run(run_name=\"RF-Model\"):\n",
    "    model = RandomForestClassifier(\n",
    "        n_estimators=500,\n",
    "        random_state=42,\n",
    "        n_jobs=-1  # Use all CPU cores\n",
    "    )\n",
    "    model.fit(X_train_res, y_train_res)\n",
    "\n",
    "#MLflow: Log parameters\n",
    "    mlflow.log_param(\"model_type\", \"RandomForest\")\n",
    "    mlflow.log_param(\"n_estimators\", 500)\n",
    "    mlflow.log_param(\"random_state\", 42)\n",
    "    mlflow.log_param(\"n_jobs\", -1)"
   ]
  },
  {
   "cell_type": "code",
   "execution_count": 28,
   "id": "8bd5e70f",
   "metadata": {},
   "outputs": [],
   "source": [
    "#Predict on test set\n",
    "y_pred = model.predict(X_test)\n",
    "y_pred_proba = model.predict_proba(X_test)[:, 1]"
   ]
  },
  {
   "cell_type": "code",
   "execution_count": 31,
   "id": "e429c4cd",
   "metadata": {},
   "outputs": [
    {
     "name": "stdout",
     "output_type": "stream",
     "text": [
      "Classification Report:\n",
      "               precision    recall  f1-score   support\n",
      "\n",
      "           0       0.99      0.98      0.99     18499\n",
      "           1       0.81      0.86      0.84      1501\n",
      "\n",
      "    accuracy                           0.97     20000\n",
      "   macro avg       0.90      0.92      0.91     20000\n",
      "weighted avg       0.98      0.97      0.98     20000\n",
      "\n",
      "ROC AUC Score: 0.986368890638848\n",
      "Precision: 0.8120300751879699\n",
      "Recall: 0.8634243837441705\n",
      "ROC AUC Score: 0.986368890638848\n"
     ]
    }
   ],
   "source": [
    "#Evaluation\n",
    "print(\"Classification Report:\\n\", classification_report(y_test, y_pred))\n",
    "roc_auc = roc_auc_score(y_test, y_pred_proba)\n",
    "precision = precision_score(y_test, y_pred)\n",
    "recall = recall_score(y_test, y_pred)\n",
    "mlflow.log_metric(\"roc_auc\", roc_auc)\n",
    "mlflow.log_metric(\"precision\", precision)\n",
    "mlflow.log_metric(\"recall\", recall)\n",
    "print(\"ROC AUC Score:\", roc_auc)\n",
    "print(\"Precision:\", precision)\n",
    "print(\"Recall:\", recall)\n",
    "\n",
    "cm = confusion_matrix(y_test, y_pred)\n",
    "ConfusionMatrixDisplay(cm).plot()\n",
    "plt.savefig('confusion_matrix_rf.png')\n",
    "mlflow.log_artifact('confusion_matrix_rf.png')\n",
    "#plt.show()\n",
    "plt.close()\n",
    "print(\"ROC AUC Score:\", roc_auc_score(y_test, y_pred_proba))"
   ]
  },
  {
   "cell_type": "code",
   "execution_count": 33,
   "id": "ed846021",
   "metadata": {},
   "outputs": [],
   "source": [
    "#Feature Importance \n",
    "importances = model.feature_importances_\n",
    "indices = np.argsort(importances)[::-1]\n",
    "plt.figure()\n",
    "plt.title(\"Feature Importances (Random Forest)\")\n",
    "plt.bar(range(X_train.shape[1]), importances[indices], align=\"center\")\n",
    "plt.xticks(range(X_train.shape[1]), X_train.columns[indices], rotation=90)\n",
    "plt.savefig('feature_importance_rf.png')\n",
    "mlflow.log_artifact('feature_importance_rf.png')\n",
    "#plt.show()\n",
    "plt.close()"
   ]
  },
  {
   "cell_type": "code",
   "execution_count": 35,
   "id": "7b38f6b8",
   "metadata": {},
   "outputs": [
    {
     "data": {
      "image/png": "[encoded data removed]",
      "text/plain": [
       "<Figure size 1150x660 with 2 Axes>"
      ]
     },
     "metadata": {},
     "output_type": "display_data"
    },
    {
     "data": {
      "image/png": "[encoded data removed]",
      "text/plain": [
       "<Figure size 1150x660 with 2 Axes>"
      ]
     },
     "metadata": {},
     "output_type": "display_data"
    },
    {
     "name": "stderr",
     "output_type": "stream",
     "text": [
      "2025/10/05 21:30:54 WARNING mlflow.models.model: `artifact_path` is deprecated. Please use `name` instead.\n",
      "2025/10/05 21:31:09 WARNING mlflow.models.model: Model logged without a signature and input example. Please set `input_example` parameter when logging the model to auto infer the model signature.\n"
     ]
    },
    {
     "data": {
      "text/plain": [
       "<mlflow.models.model.ModelInfo at 0x2127554d840>"
      ]
     },
     "execution_count": 35,
     "metadata": {},
     "output_type": "execute_result"
    }
   ],
   "source": [
    "#SHAP Explanations\n",
    "#explainer = shap.TreeExplainer(model)\n",
    "#shap_values = explainer.shap_values(X_test)\n",
    "#shap.summary_plot(shap_values, X_test, plot_type=\"bar\")\n",
    "#shap.summary_plot(shap_values, X_test)\n",
    "#plt.show()\n",
    "\n",
    "\n",
    "\n",
    "#Sampling subsets as it take resources\n",
    "X_shap = X_test.sample(n=500, random_state=42)\n",
    "\n",
    "#Create SHAP explainer and compute SHAP values on subset\n",
    "explainer = shap.TreeExplainer(model)\n",
    "shap_values = explainer.shap_values(X_shap)\n",
    "\n",
    "#Plotting\n",
    "shap.summary_plot(shap_values, X_shap, plot_type=\"bar\")\n",
    "plt.savefig('shap_bar_rf.png')\n",
    "#plt.show()\n",
    "plt.close()\n",
    "shap.summary_plot(shap_values, X_shap)\n",
    "plt.savefig('shap_summary_rf.png')\n",
    "#plt.show()\n",
    "plt.close()\n",
    "\n",
    "# Log model\n",
    "mlflow.sklearn.log_model(model, \"rf_model\")\n",
    "\n",
    "   \n",
    "\n",
    "\n",
    "\n"
   ]
  },
  {
   "cell_type": "code",
   "execution_count": 36,
   "id": "a1ccfc8b",
   "metadata": {},
   "outputs": [
    {
     "name": "stdout",
     "output_type": "stream",
     "text": [
      "Actual: 0, Predicted: 0\n",
      "Actual: 0, Predicted: 0\n",
      "Actual: 0, Predicted: 0\n",
      "Actual: 0, Predicted: 0\n",
      "Actual: 0, Predicted: 0\n",
      "Actual: 0, Predicted: 0\n",
      "Actual: 0, Predicted: 0\n",
      "Actual: 0, Predicted: 0\n",
      "Actual: 1, Predicted: 1\n",
      "Actual: 0, Predicted: 0\n"
     ]
    }
   ],
   "source": [
    "# Step 16: Print 10 sample predictions\n",
    "sample_indices = random.sample(range(len(X_test)), 10)\n",
    "for i in sample_indices:\n",
    "    print(f\"Actual: {y_test.iloc[i]}, Predicted: {y_pred[i]}\")"
   ]
  },
  {
   "cell_type": "code",
   "execution_count": 37,
   "id": "112632c8-97b6-497e-80cc-205972a5e404",
   "metadata": {},
   "outputs": [],
   "source": [
    "mlflow.end_run()"
   ]
  }
 ],
 "metadata": {
  "kernelspec": {
   "display_name": "Python (deepface)",
   "language": "python",
   "name": "deepface"
  },
  "language_info": {
   "codemirror_mode": {
    "name": "ipython",
    "version": 3
   },
   "file_extension": ".py",
   "mimetype": "text/x-python",
   "name": "python",
   "nbconvert_exporter": "python",
   "pygments_lexer": "ipython3",
   "version": "3.10.16"
  }
 },
 "nbformat": 4,
 "nbformat_minor": 5
}
